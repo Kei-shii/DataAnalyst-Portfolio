{
 "cells": [
  {
   "cell_type": "markdown",
   "id": "0e20c196",
   "metadata": {},
   "source": [
    "## Scikit-Learn Tutorial with Keith Galli"
   ]
  },
  {
   "cell_type": "markdown",
   "id": "26d77568",
   "metadata": {},
   "source": [
    "### 0. Create data classes (for neater code)"
   ]
  },
  {
   "cell_type": "code",
   "execution_count": 3,
   "id": "8d9c66b2",
   "metadata": {},
   "outputs": [],
   "source": [
    "import random\n",
    "\n",
    "class Sentiment:\n",
    "    NEGATIVE = \"NEGATIVE\"\n",
    "    NEUTRAL = \"NEUTRAL\"\n",
    "    POSITIVE = \"POSITIVE\"\n",
    "\n",
    "class Review:\n",
    "    def __init__ (self, text, score):\n",
    "        self.text = text\n",
    "        self.score = score\n",
    "        self.sentiment = self.get_sentiment()\n",
    "        \n",
    "    def get_sentiment(self):\n",
    "        if self.score <= 2:\n",
    "            return Sentiment.NEGATIVE\n",
    "        elif self.score == 3:\n",
    "            return Sentiment.NEUTRAL\n",
    "        else: # Score of 4 or 5\n",
    "            return Sentiment.POSITIVE\n",
    "        \n",
    "class ReviewContainer:\n",
    "    def __init__ (self, reviews):\n",
    "        self.reviews = reviews\n",
    "        \n",
    "    def get_text(self):\n",
    "        return [x.text for x in self.reviews]\n",
    "    \n",
    "    def get_sentiment(self):\n",
    "        return [x.sentiment for x in self.reviews]\n",
    "        \n",
    "    def evenly_distribute(self):\n",
    "        negative = list(filter(lambda x: x.sentiment == Sentiment.NEGATIVE, self.reviews))\n",
    "        positive = list(filter(lambda x: x.sentiment == Sentiment.POSITIVE, self.reviews))\n",
    "        positive_shrunk = positive[:len(negative)]\n",
    "        self.reviews = negative + positive_shrunk\n",
    "        random.shuffle(self.reviews)"
   ]
  },
  {
   "cell_type": "markdown",
   "id": "7c8870d7",
   "metadata": {},
   "source": [
    "### 1. Importing and reading data"
   ]
  },
  {
   "cell_type": "code",
   "execution_count": 4,
   "id": "35ba5ed7",
   "metadata": {},
   "outputs": [
    {
     "data": {
      "text/plain": [
       "'NEUTRAL'"
      ]
     },
     "execution_count": 4,
     "metadata": {},
     "output_type": "execute_result"
    }
   ],
   "source": [
    "import json\n",
    "\n",
    "file_name = './Datasets/sentiment/Books_small_10000.json'\n",
    "\n",
    "# Create reviews list with reviewText and overall from json file\n",
    "reviews = []\n",
    "with open(file_name) as f:\n",
    "    for line in f:\n",
    "        review = json.loads(line)\n",
    "        reviews.append(Review(review['reviewText'], review['overall']))\n",
    "        \n",
    "reviews[1].sentiment"
   ]
  },
  {
   "cell_type": "markdown",
   "id": "6454ece7",
   "metadata": {},
   "source": [
    "### 2. Data Preparation"
   ]
  },
  {
   "cell_type": "code",
   "execution_count": 5,
   "id": "3e8e01b8",
   "metadata": {},
   "outputs": [
    {
     "name": "stdout",
     "output_type": "stream",
     "text": [
      "872\n",
      "416\n"
     ]
    }
   ],
   "source": [
    "from sklearn.model_selection import train_test_split\n",
    "\n",
    "# Split data into training and testing sets\n",
    "training, test = train_test_split(reviews, test_size=0.33, random_state=42)\n",
    "\n",
    "# Make train and test containers\n",
    "train_container = ReviewContainer(training)\n",
    "test_container = ReviewContainer(test)\n",
    "\n",
    "# Evenly distribute positive and negative reviews\n",
    "train_container.evenly_distribute()\n",
    "test_container.evenly_distribute()\n",
    "\n",
    "print(len(train_container.reviews))\n",
    "print(len(test_container.reviews))"
   ]
  },
  {
   "cell_type": "code",
   "execution_count": 6,
   "id": "6dad1e05",
   "metadata": {},
   "outputs": [
    {
     "name": "stdout",
     "output_type": "stream",
     "text": [
      "436\n",
      "436\n"
     ]
    }
   ],
   "source": [
    "# Split training and test data into x (text) and y (sentiment)\n",
    "\n",
    "train_x = train_container.get_text()\n",
    "train_y = train_container.get_sentiment()\n",
    "\n",
    "test_x = test_container.get_text()\n",
    "test_y = test_container.get_sentiment()\n",
    "\n",
    "print(train_y.count(Sentiment.POSITIVE))\n",
    "print(train_y.count(Sentiment.NEGATIVE))"
   ]
  },
  {
   "cell_type": "markdown",
   "id": "c1402b1e",
   "metadata": {},
   "source": [
    "#### Bags of Words Vectorization"
   ]
  },
  {
   "cell_type": "code",
   "execution_count": 7,
   "id": "61f0c0ff",
   "metadata": {},
   "outputs": [],
   "source": [
    "from sklearn.feature_extraction.text import CountVectorizer, TfidfVectorizer\n",
    "\n",
    "vectorizer = TfidfVectorizer()\n",
    "\n",
    "# Fit and transform training data (can be 2 different steps)\n",
    "train_x_vectors = vectorizer.fit_transform(train_x)\n",
    "\n",
    "# Transform test data\n",
    "test_x_vectors = vectorizer.transform(test_x)"
   ]
  },
  {
   "cell_type": "markdown",
   "id": "8e93996d",
   "metadata": {},
   "source": [
    "### 3. Classification"
   ]
  },
  {
   "cell_type": "markdown",
   "id": "d99e5da0",
   "metadata": {},
   "source": [
    "#### Linear SVM (Support Vector Machine)"
   ]
  },
  {
   "cell_type": "code",
   "execution_count": 8,
   "id": "28d2079c",
   "metadata": {},
   "outputs": [
    {
     "name": "stdout",
     "output_type": "stream",
     "text": [
      "While I really enjoyed the premise of this book the ending left a lot to be desired. There were just so many threads left open in this book. I understand that this is a series and it's going to answer each question like where is Allie and is she going to come back, and where and what is going on with Greta (Josh's sister) in each of their own stories I just thought we could have got a bit of a wrap up. I would have liked more of a conclusion between Devon and her dad and also with Josh. It kind of just ended with her revelation and didn't show the future or anything which I really enjoy a the end of the books I read. This book just ended very abruptly for me and unfortunately that negatively affected my overall outlook on the book.I don't think I will read Allie's story because I already don't really like her. I mean okay she ran off on her wedding day and that's a dick move to someone you claim to care about but I was more upset with the fact that she dated her best friends ex-boyfriend. She was fully aware how those two felt about each other but she decided to date him and then get married to him in less than a year and asked Devon to be at the wedding. All of those things are just not okay in my book. Especially when she clearly wasn't in love with Josh, I think that makes it all the more worse.So unfortunately for me my questions will remain unanswered when it comes to this series.\n"
     ]
    },
    {
     "data": {
      "text/plain": [
       "array(['POSITIVE'], dtype='<U8')"
      ]
     },
     "execution_count": 8,
     "metadata": {},
     "output_type": "execute_result"
    }
   ],
   "source": [
    "from sklearn import svm\n",
    "\n",
    "clf_svm = svm.SVC(kernel='linear')\n",
    "\n",
    "# Passing training data to fit in classifier\n",
    "clf_svm.fit(train_x_vectors, train_y)\n",
    "\n",
    "print(test_x[0])\n",
    "\n",
    "# Use predict method to predict sentiment from test data\n",
    "clf_svm.predict(test_x_vectors[0])"
   ]
  },
  {
   "cell_type": "markdown",
   "id": "22590094",
   "metadata": {},
   "source": [
    "#### Decision Tree"
   ]
  },
  {
   "cell_type": "code",
   "execution_count": 9,
   "id": "2b5c5d06",
   "metadata": {},
   "outputs": [
    {
     "name": "stdout",
     "output_type": "stream",
     "text": [
      "She gave a lot of good strategies in her battle with fibromyalgia in day to day living.  if you are a sufferer of such, I recommend her book.\n"
     ]
    },
    {
     "data": {
      "text/plain": [
       "array(['POSITIVE'], dtype='<U8')"
      ]
     },
     "execution_count": 9,
     "metadata": {},
     "output_type": "execute_result"
    }
   ],
   "source": [
    "from sklearn.tree import DecisionTreeClassifier\n",
    "\n",
    "clf_dec = DecisionTreeClassifier()\n",
    "\n",
    "# Passing training data to fit in classifier\n",
    "clf_dec.fit(train_x_vectors, train_y)\n",
    "\n",
    "print(test_x[1])\n",
    "\n",
    "# Use predict method to predict sentiment from test data\n",
    "clf_dec.predict(test_x_vectors[1])"
   ]
  },
  {
   "cell_type": "markdown",
   "id": "024fc2b8",
   "metadata": {},
   "source": [
    "#### Naive Bayes"
   ]
  },
  {
   "cell_type": "code",
   "execution_count": 10,
   "id": "56260ba3",
   "metadata": {},
   "outputs": [
    {
     "name": "stdout",
     "output_type": "stream",
     "text": [
      "I got this book for free and boy, let me just say that I'm glad I didn't pay for it. The writing wasn't bad, but the story itself was not worth the 5 star reviews it's received. No, I wouldn't recommend this story.\n"
     ]
    },
    {
     "data": {
      "text/plain": [
       "array(['NEGATIVE'], dtype='<U8')"
      ]
     },
     "execution_count": 10,
     "metadata": {},
     "output_type": "execute_result"
    }
   ],
   "source": [
    "from sklearn.naive_bayes import GaussianNB\n",
    "\n",
    "clf_gnb = GaussianNB()\n",
    "\n",
    "# Passing training data to fit in classifier\n",
    "clf_gnb.fit(train_x_vectors.toarray(), train_y)\n",
    "\n",
    "print(test_x[2])\n",
    "\n",
    "# Use predict method to predict sentiment from test data\n",
    "clf_gnb.predict(test_x_vectors[2].toarray())"
   ]
  },
  {
   "cell_type": "markdown",
   "id": "f73ad5d6",
   "metadata": {},
   "source": [
    "#### Logistic Regression"
   ]
  },
  {
   "cell_type": "code",
   "execution_count": 11,
   "id": "2426f4fa",
   "metadata": {},
   "outputs": [
    {
     "name": "stdout",
     "output_type": "stream",
     "text": [
      "This was OK. I had problems finishing it and actually read the last chapter at about 65% and decided that it wasn't worth it to finish. That's very unusual for me, but it just wasn't my cup of tea. It started out pretty good and the concept was good, but I became uncomfortable reading it at about 1/4 of the way through.\n"
     ]
    },
    {
     "data": {
      "text/plain": [
       "array(['NEGATIVE'], dtype='<U8')"
      ]
     },
     "execution_count": 11,
     "metadata": {},
     "output_type": "execute_result"
    }
   ],
   "source": [
    "from sklearn.linear_model import LogisticRegression\n",
    "\n",
    "clf_log = LogisticRegression()\n",
    "\n",
    "# Passing training data to fit in classifier\n",
    "clf_log.fit(train_x_vectors, train_y)\n",
    "\n",
    "print(test_x[3])\n",
    "\n",
    "# Use predict method to predict sentiment from test data\n",
    "clf_log.predict(test_x_vectors[3])"
   ]
  },
  {
   "cell_type": "markdown",
   "id": "c8b618d9",
   "metadata": {},
   "source": [
    "### 4. Evaluation"
   ]
  },
  {
   "cell_type": "code",
   "execution_count": 12,
   "id": "e5ddb8fc",
   "metadata": {},
   "outputs": [
    {
     "name": "stdout",
     "output_type": "stream",
     "text": [
      "0.8076923076923077\n",
      "0.6418269230769231\n",
      "0.6610576923076923\n",
      "0.8052884615384616\n"
     ]
    }
   ],
   "source": [
    "# Comparing classifiers using score method (Mean Accuracy)\n",
    "\n",
    "print(clf_svm.score(test_x_vectors, test_y))\n",
    "print(clf_dec.score(test_x_vectors, test_y))\n",
    "print(clf_gnb.score(test_x_vectors.toarray(), test_y))\n",
    "print(clf_log.score(test_x_vectors, test_y))"
   ]
  },
  {
   "cell_type": "code",
   "execution_count": 13,
   "id": "551b3b2f",
   "metadata": {},
   "outputs": [
    {
     "name": "stdout",
     "output_type": "stream",
     "text": [
      "[0.80582524 0.80952381]\n",
      "[0.64268585 0.64096386]\n",
      "[0.65693431 0.66508314]\n",
      "[0.80291971 0.80760095]\n"
     ]
    }
   ],
   "source": [
    "# Comparing F1 scores between classifiers\n",
    "\n",
    "from sklearn.metrics import f1_score\n",
    "\n",
    "print(f1_score(test_y, clf_svm.predict(test_x_vectors), average=None, labels=[Sentiment.POSITIVE, Sentiment.NEGATIVE]))\n",
    "print(f1_score(test_y, clf_dec.predict(test_x_vectors), average=None, labels=[Sentiment.POSITIVE, Sentiment.NEGATIVE]))\n",
    "print(f1_score(test_y, clf_gnb.predict(test_x_vectors.toarray()), average=None, labels=[Sentiment.POSITIVE, Sentiment.NEGATIVE]))\n",
    "print(f1_score(test_y, clf_log.predict(test_x_vectors), average=None, labels=[Sentiment.POSITIVE, Sentiment.NEGATIVE]))"
   ]
  },
  {
   "cell_type": "markdown",
   "id": "64360e93",
   "metadata": {},
   "source": [
    "### 5. Qualitative Test"
   ]
  },
  {
   "cell_type": "code",
   "execution_count": 14,
   "id": "ebdd72d1",
   "metadata": {},
   "outputs": [
    {
     "name": "stdout",
     "output_type": "stream",
     "text": [
      "['NEGATIVE' 'NEGATIVE' 'POSITIVE']\n",
      "['NEGATIVE' 'POSITIVE' 'POSITIVE']\n",
      "['NEGATIVE' 'NEGATIVE' 'POSITIVE']\n",
      "['NEGATIVE' 'NEGATIVE' 'POSITIVE']\n"
     ]
    }
   ],
   "source": [
    "test_set = ['i don\\'t like this book', 'this book is bad', 'looking forward to new book']\n",
    "new_test = vectorizer.transform(test_set)\n",
    "gnb_test = new_test.toarray()\n",
    "\n",
    "print(clf_svm.predict(new_test))\n",
    "print(clf_dec.predict(new_test))\n",
    "print(clf_gnb.predict(gnb_test))\n",
    "print(clf_log.predict(new_test))"
   ]
  },
  {
   "cell_type": "markdown",
   "id": "0584d0e7",
   "metadata": {},
   "source": [
    "### 6. Tuning our model (with Grid Search)"
   ]
  },
  {
   "cell_type": "code",
   "execution_count": 15,
   "id": "869902ed",
   "metadata": {},
   "outputs": [
    {
     "data": {
      "text/plain": [
       "GridSearchCV(cv=5, estimator=SVC(),\n",
       "             param_grid={'C': (1, 4, 8, 16, 32), 'kernel': ('linear', 'rbf')})"
      ]
     },
     "execution_count": 15,
     "metadata": {},
     "output_type": "execute_result"
    }
   ],
   "source": [
    "from sklearn.model_selection import GridSearchCV\n",
    "\n",
    "# Grid Search will choose which parameters to use best\n",
    "parameters = {'kernel': ('linear', 'rbf'), 'C': (1, 4, 8, 16, 32)}\n",
    "\n",
    "# Retraining model\n",
    "svc = svm.SVC()\n",
    "clf = GridSearchCV(svc, parameters, cv=5)\n",
    "clf.fit(train_x_vectors, train_y)"
   ]
  },
  {
   "cell_type": "code",
   "execution_count": 16,
   "id": "3908f6ac",
   "metadata": {
    "scrolled": true
   },
   "outputs": [
    {
     "name": "stdout",
     "output_type": "stream",
     "text": [
      "0.8100961538461539\n"
     ]
    }
   ],
   "source": [
    "# Testing new classifier\n",
    "\n",
    "print(clf.score(test_x_vectors, test_y))"
   ]
  },
  {
   "cell_type": "markdown",
   "id": "fa9149e9",
   "metadata": {},
   "source": [
    "### 7. Saving and Loading Model"
   ]
  },
  {
   "cell_type": "markdown",
   "id": "b1539ce8",
   "metadata": {},
   "source": [
    "#### Save Model"
   ]
  },
  {
   "cell_type": "code",
   "execution_count": 17,
   "id": "85954e03",
   "metadata": {},
   "outputs": [],
   "source": [
    "import pickle\n",
    "\n",
    "with open('./Models/sentiment_classifier.pkl', 'wb') as f:\n",
    "    pickle.dump(clf, f)"
   ]
  },
  {
   "cell_type": "markdown",
   "id": "fa40178d",
   "metadata": {},
   "source": [
    "#### Load Model"
   ]
  },
  {
   "cell_type": "code",
   "execution_count": 18,
   "id": "b7d8bc96",
   "metadata": {},
   "outputs": [],
   "source": [
    "with open('./Models/sentiment_classifier.pkl', 'rb') as f:\n",
    "    loaded_clf = pickle.load(f)"
   ]
  },
  {
   "cell_type": "code",
   "execution_count": 19,
   "id": "d48bbe31",
   "metadata": {},
   "outputs": [
    {
     "name": "stdout",
     "output_type": "stream",
     "text": [
      "While I really enjoyed the premise of this book the ending left a lot to be desired. There were just so many threads left open in this book. I understand that this is a series and it's going to answer each question like where is Allie and is she going to come back, and where and what is going on with Greta (Josh's sister) in each of their own stories I just thought we could have got a bit of a wrap up. I would have liked more of a conclusion between Devon and her dad and also with Josh. It kind of just ended with her revelation and didn't show the future or anything which I really enjoy a the end of the books I read. This book just ended very abruptly for me and unfortunately that negatively affected my overall outlook on the book.I don't think I will read Allie's story because I already don't really like her. I mean okay she ran off on her wedding day and that's a dick move to someone you claim to care about but I was more upset with the fact that she dated her best friends ex-boyfriend. She was fully aware how those two felt about each other but she decided to date him and then get married to him in less than a year and asked Devon to be at the wedding. All of those things are just not okay in my book. Especially when she clearly wasn't in love with Josh, I think that makes it all the more worse.So unfortunately for me my questions will remain unanswered when it comes to this series.\n",
      "['POSITIVE']\n"
     ]
    }
   ],
   "source": [
    "print(test_x[0])\n",
    "\n",
    "print(loaded_clf.predict(test_x_vectors[0]))"
   ]
  }
 ],
 "metadata": {
  "kernelspec": {
   "display_name": "Python 3",
   "language": "python",
   "name": "python3"
  },
  "language_info": {
   "codemirror_mode": {
    "name": "ipython",
    "version": 3
   },
   "file_extension": ".py",
   "mimetype": "text/x-python",
   "name": "python",
   "nbconvert_exporter": "python",
   "pygments_lexer": "ipython3",
   "version": "3.9.5"
  }
 },
 "nbformat": 4,
 "nbformat_minor": 5
}
